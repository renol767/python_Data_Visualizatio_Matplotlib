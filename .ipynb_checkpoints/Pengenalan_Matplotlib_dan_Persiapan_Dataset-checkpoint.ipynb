{
 "cells": [
  {
   "cell_type": "code",
   "execution_count": 2,
   "id": "eda15114",
   "metadata": {},
   "outputs": [
    {
     "name": "stdout",
     "output_type": "stream",
     "text": [
      "Ukuran dataset: 5000 baris dan 9 kolom\n",
      "\n",
      "Lima data teratas:\n",
      "   order_id  order_date  customer_id             city     province product_id  \\\n",
      "0   1703458  2019-10-17        14004  Jakarta Selatan  DKI Jakarta      P1910   \n",
      "1   1706815  2019-10-24        17220  Jakarta Selatan  DKI Jakarta      P2934   \n",
      "2   1710718  2019-11-03        16518    Jakarta Utara  DKI Jakarta      P0908   \n",
      "3   1683592  2019-08-19        16364    Jakarta Barat  DKI Jakarta      P0128   \n",
      "4   1702573  2019-10-16        15696    Jakarta Timur  DKI Jakarta      P2968   \n",
      "\n",
      "     brand  quantity  item_price  \n",
      "0  BRAND_J        10      740000  \n",
      "1  BRAND_R         2      604000  \n",
      "2  BRAND_C         8     1045000  \n",
      "3  BRAND_A         4      205000  \n",
      "4  BRAND_R         2     4475000  \n"
     ]
    }
   ],
   "source": [
    "import pandas as pd\n",
    "dataset = pd.read_csv('retail_raw_reduced.csv')\n",
    "print('Ukuran dataset: %d baris dan %d kolom\\n' % dataset.shape)\n",
    "print('Lima data teratas:')\n",
    "print(dataset.head())"
   ]
  },
  {
   "cell_type": "code",
   "execution_count": 4,
   "id": "3e5c8243",
   "metadata": {},
   "outputs": [
    {
     "name": "stdout",
     "output_type": "stream",
     "text": [
      "   order_id  order_date  customer_id             city     province product_id  \\\n",
      "0   1703458  2019-10-17        14004  Jakarta Selatan  DKI Jakarta      P1910   \n",
      "1   1706815  2019-10-24        17220  Jakarta Selatan  DKI Jakarta      P2934   \n",
      "2   1710718  2019-11-03        16518    Jakarta Utara  DKI Jakarta      P0908   \n",
      "3   1683592  2019-08-19        16364    Jakarta Barat  DKI Jakarta      P0128   \n",
      "4   1702573  2019-10-16        15696    Jakarta Timur  DKI Jakarta      P2968   \n",
      "\n",
      "     brand  quantity  item_price order_month  \n",
      "0  BRAND_J        10      740000     2019-10  \n",
      "1  BRAND_R         2      604000     2019-10  \n",
      "2  BRAND_C         8     1045000     2019-11  \n",
      "3  BRAND_A         4      205000     2019-08  \n",
      "4  BRAND_R         2     4475000     2019-10  \n"
     ]
    }
   ],
   "source": [
    "# Convert data order_date menjadi kolom baru yaitu order_month \n",
    "import datetime\n",
    "dataset['order_month'] = dataset['order_date'].apply(lambda x: datetime.datetime.strptime(x, \"%Y-%m-%d\").strftime('%Y-%m'))\n",
    "print(dataset.head())"
   ]
  },
  {
   "cell_type": "code",
   "execution_count": 5,
   "id": "89795ad7",
   "metadata": {},
   "outputs": [
    {
     "name": "stdout",
     "output_type": "stream",
     "text": [
      "Ukuran dataset: 5000 baris dan 11 kolom\n",
      "\n",
      "Lima data teratas:\n",
      "   order_id  order_date  customer_id             city     province product_id  \\\n",
      "0   1703458  2019-10-17        14004  Jakarta Selatan  DKI Jakarta      P1910   \n",
      "1   1706815  2019-10-24        17220  Jakarta Selatan  DKI Jakarta      P2934   \n",
      "2   1710718  2019-11-03        16518    Jakarta Utara  DKI Jakarta      P0908   \n",
      "3   1683592  2019-08-19        16364    Jakarta Barat  DKI Jakarta      P0128   \n",
      "4   1702573  2019-10-16        15696    Jakarta Timur  DKI Jakarta      P2968   \n",
      "\n",
      "     brand  quantity  item_price order_month      gmv  \n",
      "0  BRAND_J        10      740000     2019-10  7400000  \n",
      "1  BRAND_R         2      604000     2019-10  1208000  \n",
      "2  BRAND_C         8     1045000     2019-11  8360000  \n",
      "3  BRAND_A         4      205000     2019-08   820000  \n",
      "4  BRAND_R         2     4475000     2019-10  8950000  \n"
     ]
    }
   ],
   "source": [
    "# Menambah Kolom GMV Hasil Kali item price dan quantity\n",
    "dataset['gmv'] = dataset['item_price']*dataset['quantity']\n",
    "print('Ukuran dataset: %d baris dan %d kolom\\n' % dataset.shape)\n",
    "print('Lima data teratas:')\n",
    "print(dataset.head())"
   ]
  },
  {
   "cell_type": "code",
   "execution_count": null,
   "id": "7c2f9623",
   "metadata": {},
   "outputs": [],
   "source": []
  }
 ],
 "metadata": {
  "kernelspec": {
   "display_name": "Python 3",
   "language": "python",
   "name": "python3"
  },
  "language_info": {
   "codemirror_mode": {
    "name": "ipython",
    "version": 3
   },
   "file_extension": ".py",
   "mimetype": "text/x-python",
   "name": "python",
   "nbconvert_exporter": "python",
   "pygments_lexer": "ipython3",
   "version": "3.9.1"
  }
 },
 "nbformat": 4,
 "nbformat_minor": 5
}
